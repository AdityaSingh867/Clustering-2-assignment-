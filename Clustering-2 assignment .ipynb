{
 "cells": [
  {
   "cell_type": "markdown",
   "id": "376d67a9-afe9-4613-91f4-a47f40a30dd4",
   "metadata": {},
   "source": [
    "Q1. What is hierarchical clustering, and how is it different from other clustering techniques?"
   ]
  },
  {
   "cell_type": "markdown",
   "id": "892d47e9-75bb-4b56-aad0-07b9e707696c",
   "metadata": {},
   "source": [
    " Hierarchical clustering stats by treating each data points as an individual cluster , but other cluster techniques start making cluster with minimum two datapoints."
   ]
  },
  {
   "cell_type": "markdown",
   "id": "6e9ca673-2119-4bea-add7-e249dc50b992",
   "metadata": {},
   "source": [
    "Q2. What are the two main types of hierarchical clustering algorithms? Describe each in brief."
   ]
  },
  {
   "cell_type": "markdown",
   "id": "1cd1d071-add3-434d-8f35-cb088736160a",
   "metadata": {},
   "source": [
    "There is two main hierarchical clustering :\n",
    "\n",
    "- agglomerative\n",
    "\n",
    "- divisive"
   ]
  },
  {
   "cell_type": "markdown",
   "id": "c86021e0-ba79-471d-a0a4-7c1d44f0da76",
   "metadata": {},
   "source": [
    "Agglomerative :\n",
    "\n",
    "step 1 : They take each data points as like cluster\n",
    "\n",
    "step 2 : Then the solo cluster find the nearest data point by using euclidean distance rule and than they both make a group together.\n",
    "\n",
    "step 3 : Then the cluster group which have tow datapoint in like in privious step than they find the nearest data point with minimum euclidean distance then they group together.\n",
    "\n",
    "step 4 : this steps keep going untill we find only one cluster in hole dataset."
   ]
  },
  {
   "cell_type": "markdown",
   "id": "be480b48-0706-4879-931c-9b2102fccad7",
   "metadata": {},
   "source": [
    "divisive have down to top steps like Divisive"
   ]
  },
  {
   "cell_type": "markdown",
   "id": "6ce0516c-e053-4ff6-acc6-b1f5e6a1a600",
   "metadata": {},
   "source": [
    "Q3. How do you determine the distance between two clusters in hierarchical clustering, and what are the\n",
    "common distance metrics used?"
   ]
  },
  {
   "cell_type": "markdown",
   "id": "6c23cbe9-5d02-41d2-b2d8-192bb4ab04c7",
   "metadata": {},
   "source": [
    " D(r,s) = Trs / ( Nr * Ns) Where Trs is the sum of all pairwise distances between cluster r and cluster s."
   ]
  },
  {
   "cell_type": "markdown",
   "id": "749785cf-3e8c-46c9-87b5-dd8c6d588da5",
   "metadata": {},
   "source": [
    "Common distance metrics used to calculate the distance between points include Euclidean distance, Manhattan distance, and cosine similarity. The choice of distance metric can also affect the resulting clusters and should be chosen based on the characteristics of the data and the goals of the analysis."
   ]
  },
  {
   "cell_type": "markdown",
   "id": "f0c7611c-8467-490d-b9ee-6ac9d75c6504",
   "metadata": {},
   "source": [
    "Q4. How do you determine the optimal number of clusters in hierarchical clustering, and what are some\n",
    "common methods used for this purpose?"
   ]
  },
  {
   "cell_type": "markdown",
   "id": "8e6465e1-331f-468f-86b7-cf1cda022eeb",
   "metadata": {},
   "source": [
    " the number of vertical lines which are being intersected by the line drawn using the threshold"
   ]
  },
  {
   "cell_type": "markdown",
   "id": "81255ad1-61fc-4ad8-b0e5-469fbd6179a5",
   "metadata": {},
   "source": [
    "some common methods used for this purpose using Dendogram method"
   ]
  },
  {
   "cell_type": "markdown",
   "id": "b679ea34-5604-41da-ba28-e02b09efeec8",
   "metadata": {},
   "source": [
    "Q5. What are dendrograms in hierarchical clustering, and how are they useful in analyzing the results?"
   ]
  },
  {
   "cell_type": "markdown",
   "id": "2f4e5edf-0a07-480a-91ed-cbf24ee536b0",
   "metadata": {},
   "source": [
    "Dendogram is like a graph in hierarchical clustering , and they are very usefull to analyzing the optimal number of clusters in hierarchical clustering.\n",
    "\n",
    "the image of Dendogram :"
   ]
  },
  {
   "attachments": {
    "e5ca3a05-4b70-4b91-a2a0-73d570675acb.png": {
     "image/png": "[encoded data removed]"
    }
   },
   "cell_type": "markdown",
   "id": "43297e85-dda1-4a5b-8d1f-3ff094193e4e",
   "metadata": {},
   "source": [
    "![PlotDendrogramExample_01.png](attachment:e5ca3a05-4b70-4b91-a2a0-73d570675acb.png)"
   ]
  },
  {
   "cell_type": "markdown",
   "id": "645453d3-d6d2-444d-9fca-1f0e8d83f3a2",
   "metadata": {},
   "source": [
    "Q6. Can hierarchical clustering be used for both numerical and categorical data? If yes, how are the\n",
    "distance metrics different for each type of data?"
   ]
  },
  {
   "cell_type": "markdown",
   "id": "0a38b93e-8f5a-41cd-a633-44ad270a92d6",
   "metadata": {},
   "source": [
    "Yes , For numerical data, common distance metrics such as Euclidean distance or Manhattan distance can be used \n",
    "\n",
    "For categorical data, other distance metrics such as Gower distance or Jaccard similarity may be more appropriate"
   ]
  },
  {
   "cell_type": "markdown",
   "id": "2e74d8f3-d0ef-42a7-ae79-afa6615d7b85",
   "metadata": {},
   "source": [
    "Q7. How can you use hierarchical clustering to identify outliers or anomalies in your data?"
   ]
  },
  {
   "cell_type": "markdown",
   "id": "70dab055-c47c-4a28-b377-4519fc73462f",
   "metadata": {},
   "source": [
    "Outliers or anomalies can be identified by looking for leaves that are far away from other leaves in the dendrogram. These leaves represent data points that are dissimilar to other data points in the dataset and may be considered outliers or anomalies."
   ]
  }
 ],
 "metadata": {
  "kernelspec": {
   "display_name": "Python 3 (ipykernel)",
   "language": "python",
   "name": "python3"
  },
  "language_info": {
   "codemirror_mode": {
    "name": "ipython",
    "version": 3
   },
   "file_extension": ".py",
   "mimetype": "text/x-python",
   "name": "python",
   "nbconvert_exporter": "python",
   "pygments_lexer": "ipython3",
   "version": "3.10.8"
  }
 },
 "nbformat": 4,
 "nbformat_minor": 5
}
